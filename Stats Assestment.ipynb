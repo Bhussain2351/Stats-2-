{
 "cells": [
  {
   "cell_type": "code",
   "execution_count": 2,
   "id": "ff3e24eb-847e-43c5-807f-d1ff36e4439a",
   "metadata": {},
   "outputs": [],
   "source": [
    "# 1 Ans. Making inferences about populations. If you have a sample of data from a population \n",
    "#        that is normally distributed, you can use the normal distribution to make inferences about the population as a whole.\n",
    "#        For example, you could use the normal distribution to estimate the mean or standard deviation of the population"
   ]
  },
  {
   "cell_type": "code",
   "execution_count": 3,
   "id": "c1dd6f55-796a-47ea-9e98-2439f44b2dde",
   "metadata": {},
   "outputs": [],
   "source": [
    "# 2 Ans. In this section, we learn a new hypothesis test called the chi-square goodness-of-fit test. \n",
    "#        A goodness-of-fit test determines whether or not the distribution of a \n",
    "#        categorical variable in a sample fits a claimed distribution in the population"
   ]
  },
  {
   "cell_type": "code",
   "execution_count": 4,
   "id": "0e6006a5-7ec6-42b9-8249-f2ff65090f62",
   "metadata": {},
   "outputs": [],
   "source": [
    "# 3 Ans. According to the manufacturer of M&M candy, the color distribution for plain \n",
    "#        chocolate M&Ms is 13% brown, 13% red, 14% yellow, 24% blue, 20% orange, and 16% green. \n",
    "#        Do the M&Ms in our sample suggest that the color distribution is different?"
   ]
  },
  {
   "cell_type": "code",
   "execution_count": 5,
   "id": "625c0410-d875-47cf-80ab-5e7ebf55c753",
   "metadata": {},
   "outputs": [],
   "source": [
    "# 4 Ans. This approach is used to calculate confidence Intervals for the small dataset where the n<=30 and for this, \n",
    "# the user needs to call the t.interval() function from the scipy.stats library to get \n",
    "# the confidence interval for a population means of the given dataset in python.\n",
    "\n",
    "# Syntax: st.t.interval(alpha, length, loc, scale)) \n",
    "\n",
    "# Parameters:\n",
    "\n",
    "# alpha: Probability that an RV will be drawn from the returned range.\n",
    "# length: Length of the data set\n",
    "# loc: location parameter\n",
    "# scale: scale parameter"
   ]
  },
  {
   "cell_type": "code",
   "execution_count": 6,
   "id": "d4bdb1bd-1cff-4683-8457-c140fd80b7af",
   "metadata": {},
   "outputs": [],
   "source": [
    "# 5 Ans. #x-axis ranges from 0 to 20 with .001 steps\n",
    "# x = np.arange(0, 20, 0.001)\n",
    "\n",
    "# #plot Chi-square distribution with 4 degrees of freedom\n",
    "# plt.plot(x, chi2.pdf(x, df=4))"
   ]
  },
  {
   "cell_type": "code",
   "execution_count": null,
   "id": "559af9d2-8550-4f5f-9e3d-1d37e38293cb",
   "metadata": {},
   "outputs": [],
   "source": []
  }
 ],
 "metadata": {
  "kernelspec": {
   "display_name": "Python 3 (ipykernel)",
   "language": "python",
   "name": "python3"
  },
  "language_info": {
   "codemirror_mode": {
    "name": "ipython",
    "version": 3
   },
   "file_extension": ".py",
   "mimetype": "text/x-python",
   "name": "python",
   "nbconvert_exporter": "python",
   "pygments_lexer": "ipython3",
   "version": "3.10.8"
  }
 },
 "nbformat": 4,
 "nbformat_minor": 5
}
